{
 "cells": [
  {
   "cell_type": "code",
   "execution_count": null,
   "id": "d64b2b98",
   "metadata": {},
   "outputs": [],
   "source": [
    "using PyPlot\n",
    "using Random\n",
    "using LinearAlgebra"
   ]
  },
  {
   "attachments": {},
   "cell_type": "markdown",
   "id": "64ed793a",
   "metadata": {},
   "source": [
    "Our goal is, given a function $f:X\\times Y \\to \\mathbf{R}$, to find the mixed Nash equilibria, that is solutions to \n",
    "$$\\min_{\\mu \\in \\mathcal{P}(X)} \\max_{\\nu \\in \\mathcal{P}(Y)} \\int f(x,y)d\\mu(X)d\\nu(x)$$\n",
    "Let us take $X=Y=\\mathbb{T}$ the torus and a random smooth function $f$ (which, for convenience, we parameterize by its Fourier coefficients)."
   ]
  },
  {
   "attachments": {},
   "cell_type": "markdown",
   "id": "c639779e",
   "metadata": {},
   "source": [
    "## Define the algorithms"
   ]
  },
  {
   "attachments": {},
   "cell_type": "markdown",
   "id": "ccd6b40a",
   "metadata": {},
   "source": [
    "Definition of the particle gradient methods :\n",
    "- sym-GDA\n",
    "- alt-GDA\n",
    "- extra-gradient"
   ]
  },
  {
   "cell_type": "code",
   "execution_count": null,
   "id": "1ee234cd",
   "metadata": {},
   "outputs": [],
   "source": [
    "\"\"\"\n",
    "Find mixed Nash equilibria via particle (simultaneous) gradient descent ascent \n",
    "    - p0,q0 : initial weights\n",
    "    - x0,y0 : initial positions\n",
    "    - c : weights of the Gaussian process\n",
    "    - η : step-size\n",
    "\"\"\"\n",
    "function particle_symGDA(p0, q0, x0, y0, c, η, niter;  α = 1)\n",
    "    m, n = length(p0), length(q0)\n",
    "    nf = div(size(c,1)-1,2) #nb of frequencies\n",
    "    f(x1,x2)   = real(sum(c[k1+nf+1,k2+nf+1]*exp(2π*im*(k1*x1+k2*x2))/(1+k1^2+k2^2) for k1 in -nf:nf, k2 in -nf:nf))\n",
    "    ∂1f(x1,x2) = real(sum(2π*im*k1*c[k1+nf+1,k2+nf+1]*exp(2π*im*(k1*x1+k2*x2))/(1+k1^2+k2^2) for k1 in -nf:nf, k2 in -nf:nf))\n",
    "    ∂2f(x1,x2) = real(sum(2π*im*k2*c[k1+nf+1,k2+nf+1]*exp(2π*im*(k1*x1+k2*x2))/(1+k1^2+k2^2) for k1 in -nf:nf, k2 in -nf:nf))\n",
    "    ps, qs = zeros(m,niter), zeros(n,niter)\n",
    "    xs, ys = zeros(m,niter), zeros(n,niter)\n",
    "    p,q,x,y = p0,q0,x0,y0\n",
    "    for t = 1:niter\n",
    "        ps[:,t], qs[:,t], xs[:,t], ys[:,t] = p, q, x, y\n",
    "\n",
    "        A  = f.(x,y')\n",
    "        Ax = ∂1f.(x,y')\n",
    "        Ay = ∂2f.(x,y')\n",
    "        pp = p.*exp.(-η*A*q)\n",
    "        qq = q.*exp.(η*A'*p)\n",
    "        x = x - α*η*Ax*q\n",
    "        y = y + α*η*Ay'*p\n",
    "        p = pp/sum(pp)\n",
    "        q = qq/sum(qq) \n",
    "    end\n",
    "    return ps, qs, xs, ys\n",
    "end"
   ]
  },
  {
   "cell_type": "code",
   "execution_count": null,
   "id": "c64fa789",
   "metadata": {},
   "outputs": [],
   "source": [
    "\"\"\"\n",
    "Find mixed Nash equilibria via particle alternating gradient descent ascent \n",
    "    - p0,q0 : initial weights\n",
    "    - x0,y0 : initial positions\n",
    "    - c : weights of the Gaussian process\n",
    "    - η : step-size\n",
    "\"\"\"\n",
    "function particle_altGDA(p0, q0, x0, y0, c, η, niter;  α = 1)\n",
    "    m, n = length(p0), length(q0)\n",
    "    nf = div(size(c,1)-1,2) #nb of frequencies\n",
    "    f(x1,x2)   = real(sum(c[k1+nf+1,k2+nf+1]*exp(2π*im*(k1*x1+k2*x2))/(1+k1^2+k2^2) for k1 in -nf:nf, k2 in -nf:nf))\n",
    "    ∂1f(x1,x2) = real(sum(2π*im*k1*c[k1+nf+1,k2+nf+1]*exp(2π*im*(k1*x1+k2*x2))/(1+k1^2+k2^2) for k1 in -nf:nf, k2 in -nf:nf))\n",
    "    ∂2f(x1,x2) = real(sum(2π*im*k2*c[k1+nf+1,k2+nf+1]*exp(2π*im*(k1*x1+k2*x2))/(1+k1^2+k2^2) for k1 in -nf:nf, k2 in -nf:nf))\n",
    "    ps, qs = zeros(m,niter), zeros(n,niter)\n",
    "    xs, ys = zeros(m,niter), zeros(n,niter)\n",
    "    p,q,x,y = p0,q0,x0,y0\n",
    "    for t = 1:niter\n",
    "        ps[:,t], qs[:,t], xs[:,t], ys[:,t] = p, q, x, y\n",
    "\n",
    "        # update one side\n",
    "        A = f.(x,y')\n",
    "        p = p.*exp.(-η*A*q)\n",
    "        p = p/sum(p)\n",
    "        Ax= ∂1f.(x,y')\n",
    "        x = x - α*η*Ax*q\n",
    "        \n",
    "        # update other side\n",
    "        B = f.(x,y')\n",
    "        q = q.*exp.(η*B'*p)\n",
    "        q = q/sum(q)\n",
    "        By= ∂2f.(x,y')\n",
    "        y = y + α*η*By'*p\n",
    "    end\n",
    "    return ps, qs, xs, ys\n",
    "end"
   ]
  },
  {
   "cell_type": "code",
   "execution_count": null,
   "id": "12fb7f67",
   "metadata": {},
   "outputs": [],
   "source": [
    "\"\"\"\n",
    "Find mixed Nash equilibria via particle extragradient\n",
    "    - p0,q0 : initial weights\n",
    "    - x0,y0 : initial positions\n",
    "    - c : weights of the Gaussian process\n",
    "    - η : step-size\n",
    "\"\"\"\n",
    "function particle_EG(p0, q0, x0, y0, c, η, niter;  α = 1)\n",
    "    m, n = length(p0), length(q0)\n",
    "    nf = div(size(c,1)-1,2) #nb of frequencies\n",
    "    f(x1,x2)   = real(sum(c[k1+nf+1,k2+nf+1]*exp(2π*im*(k1*x1+k2*x2))/(1+k1^2+k2^2) for k1 in -nf:nf, k2 in -nf:nf))\n",
    "    ∂1f(x1,x2) = real(sum(2π*im*k1*c[k1+nf+1,k2+nf+1]*exp(2π*im*(k1*x1+k2*x2))/(1+k1^2+k2^2) for k1 in -nf:nf, k2 in -nf:nf))\n",
    "    ∂2f(x1,x2) = real(sum(2π*im*k2*c[k1+nf+1,k2+nf+1]*exp(2π*im*(k1*x1+k2*x2))/(1+k1^2+k2^2) for k1 in -nf:nf, k2 in -nf:nf))\n",
    "    ps, qs = zeros(m,niter), zeros(n,niter)\n",
    "    xs, ys = zeros(m,niter), zeros(n,niter)\n",
    "    p,q,x,y = p0,q0,x0,y0\n",
    "    for t = 1:niter\n",
    "        ps[:,t], qs[:,t], xs[:,t], ys[:,t] = p, q, x, y\n",
    "\n",
    "        # gradient\n",
    "        A  = f.(x,y')\n",
    "        Ax = ∂1f.(x,y')\n",
    "        Ay = ∂2f.(x,y')\n",
    "        pp = p.*exp.(-η*A*q)\n",
    "        pp = pp/sum(pp)\n",
    "        qq = q.*exp.(η*A'*p)\n",
    "        qq = qq/sum(qq)\n",
    "        xx = x - α*η*Ax*q\n",
    "        yy = y + α*η*Ay'*p\n",
    "        \n",
    "        # extragradient\n",
    "        B  = f.(xx,yy')\n",
    "        Bx = ∂1f.(xx,yy')\n",
    "        By = ∂2f.(xx,yy')\n",
    "        p = p.*exp.(-η*B*qq)\n",
    "        p = p/sum(p)\n",
    "        q = q.*exp.(η*B'*pp)\n",
    "        q = q/sum(q)\n",
    "        x = x - α*η*Bx*qq\n",
    "        y = y + α*η*By'*pp\n",
    "    end\n",
    "    return ps, qs, xs, ys\n",
    "end"
   ]
  },
  {
   "attachments": {},
   "cell_type": "markdown",
   "id": "17d8f790",
   "metadata": {},
   "source": [
    "## Experiment for the over-parameterized case"
   ]
  },
  {
   "attachments": {},
   "cell_type": "markdown",
   "id": "486b8b2d",
   "metadata": {},
   "source": [
    "Define a random payoff function"
   ]
  },
  {
   "cell_type": "code",
   "execution_count": null,
   "id": "04d4adb9",
   "metadata": {},
   "outputs": [],
   "source": [
    "Random.seed!(3)#3#7\n",
    "nf = 4 # there are (nf+1)^d (real-valued) basis functions\n",
    "c = randn(2nf+1,2nf+1) + im*randn(2nf+1,2nf+1); # random fourier coeffs\n",
    "\n",
    "# plot\n",
    "figure(figsize=[3,3])\n",
    "xs = 0:0.01:1\n",
    "f(x1,x2) = real(sum(c[k1+nf+1,k2+nf+1]*exp(2π*im*(k1*x1+k2*x2))/(1+k1^2+k2^2) for k1 in -nf:nf, k2 in -nf:nf))\n",
    "pcolor(xs,xs',f.(xs,xs'), shading=\"auto\");axis(\"off\");#title(L\"f\");\n",
    "#savefig(\"potential.png\",dpi=100,bbox_inches=\"tight\")"
   ]
  },
  {
   "cell_type": "code",
   "execution_count": null,
   "id": "ca217ecb",
   "metadata": {},
   "outputs": [],
   "source": [
    "η = 0.1\n",
    "niter = 4000\n",
    "m, n = 30, 20 \n",
    "p0, q0 = ones(m)/m, ones(n)/n\n",
    "x0 = range(0,1,length=m)\n",
    "y0 = range(0,1,length=n);\n",
    "@time ps, qs, xs, ys = particle_EG(p0, q0, x0, y0, c, η, niter;  α = 0.05);"
   ]
  },
  {
   "attachments": {},
   "cell_type": "markdown",
   "id": "de7e2035",
   "metadata": {},
   "source": [
    "Plot the trajectories (remember that we are on the torus, here the torus is not \"folded\")"
   ]
  },
  {
   "cell_type": "code",
   "execution_count": null,
   "id": "9f7f84dd",
   "metadata": {},
   "outputs": [],
   "source": [
    "figure(figsize=[10,4])\n",
    "subplot(121)\n",
    "plot(xs',ps',\"k\");\n",
    "plot(xs[:,end],ps[:,end],\"or\");\n",
    "title(\"Player A\"); xlabel(\"position\"); ylabel(\"weight\");\n",
    "\n",
    "subplot(122)\n",
    "plot(ys',qs',\"k\");\n",
    "plot(ys[:,end],qs[:,end],\"or\");\n",
    "title(\"Player B\"); xlabel(\"position\"); ylabel(\"weight\");"
   ]
  },
  {
   "attachments": {},
   "cell_type": "markdown",
   "id": "c49ea48c",
   "metadata": {},
   "source": [
    "### Code to make a nice movie"
   ]
  },
  {
   "cell_type": "code",
   "execution_count": null,
   "id": "0827ca80",
   "metadata": {},
   "outputs": [],
   "source": [
    "#(m,n) = (mm,nn) #TEMP\n",
    "ts = Int.(floor.((range(1,niter,length=500))))\n",
    "i=10\n",
    "tl = 15\n",
    "xs = mod.(xs,1)\n",
    "ys = mod.(ys,1)\n",
    "for i=1:length(ts)\n",
    "    close()\n",
    "    figure(figsize=[8,3])\n",
    "    subplot(121)\n",
    "    plot(xs[:,ts[i]],ps[:,ts[i]],\"oC0\")\n",
    "    for j=1:m\n",
    "        if abs(xs[j,ts[i]]-xs[j,maximum([ts[i]-tl,1])])<0.5\n",
    "            plot(xs[j,maximum([ts[i]-tl,1]):ts[i]],ps[j,maximum([ts[i]-tl,1]):ts[i]],\"k\")\n",
    "        end\n",
    "    end\n",
    "        #plot(xs[j,maximum([ts[i]-tl,1]):ts[i]],ps[j,maximum([ts[i]-tl,1]):ts[i]],\"k\")\n",
    "    #plot(xsol,psol,\"xr\") #TEMP\n",
    "    xlabel(\"position\")\n",
    "    ylabel(\"weight\")\n",
    "    yticks([])\n",
    "    xticks([-0,1])\n",
    "    axis([0.0,1.0,0,maximum(ps)+0.1])\n",
    "    title(\"Player A\")\n",
    "\n",
    "    subplot(122)\n",
    "    plot(ys[:,ts[i]],qs[:,ts[i]],\"oC1\")\n",
    "    for j=1:n\n",
    "        if abs(ys[j,ts[i]]-ys[j,maximum([ts[i]-tl,1])])<0.5\n",
    "            plot(ys[j,maximum([ts[i]-tl,1]):ts[i]],qs[j,maximum([ts[i]-tl,1]):ts[i]],\"k\")\n",
    "        end\n",
    "    end\n",
    "    #plot(ysol,qsol,\"xr\") #TEMP\n",
    "    xlabel(\"position\")\n",
    "    ylabel(\"weight\")\n",
    "    yticks([])\n",
    "    xticks([-0,1])\n",
    "    axis([0.0,1.0,0,maximum(qs)+0.1])\n",
    "    title(\"Player B\")\n",
    "    \n",
    "    #savefig(\"output/CP-EG-yes/CP-EG-yes-$(i).png\",dpi=200,bbox_inches=\"tight\")\n",
    "    #savefig(\"output/EP-AG-yes/EP-AG-yes-$(i).png\",dpi=200,bbox_inches=\"tight\")\n",
    "end"
   ]
  },
  {
   "attachments": {},
   "cell_type": "markdown",
   "id": "48a11265",
   "metadata": {},
   "source": [
    "## Prepare experiments in the exact parameterized case"
   ]
  },
  {
   "cell_type": "code",
   "execution_count": null,
   "id": "172b8ebc",
   "metadata": {},
   "outputs": [],
   "source": [
    "\"Extract the positions of the non-zero particles (and clustering)\"\n",
    "function extract(x, p; tol=1e-4)\n",
    "    xx, pp  = [mod1(x[1],1)], [p[1]]\n",
    "    for k = 2:length(x) \n",
    "        (v,ind) = findmin(abs.(xx .- mod1.(x[k],1)))\n",
    "        if v > tol\n",
    "            append!(xx,mod1.(x[k],1))\n",
    "            append!(pp,p[k])\n",
    "        else\n",
    "            pp[ind] += p[k]\n",
    "        end\n",
    "    end\n",
    "    return xx[pp .> tol], pp[pp .> tol]\n",
    "end"
   ]
  },
  {
   "cell_type": "code",
   "execution_count": null,
   "id": "74f64a4e",
   "metadata": {},
   "outputs": [],
   "source": [
    "# create clusters of positions at 10^(-6) precision\n",
    "xx,pp = extract(xs[:,end],ps[:,end])\n",
    "yy,qq = extract(ys[:,end],qs[:,end])\n",
    "mm, nn = length(xx), length(yy)\n",
    "println(\"Number of particles of the mixed Nash equilibrium (Player A, Player B) = (\",mm,\", \",nn,\")\")"
   ]
  },
  {
   "attachments": {},
   "cell_type": "markdown",
   "id": "f6e423d5",
   "metadata": {},
   "source": [
    "Compute the true saddle to a high precision"
   ]
  },
  {
   "cell_type": "code",
   "execution_count": null,
   "id": "0f66f1a3",
   "metadata": {},
   "outputs": [],
   "source": [
    "η = 0.1\n",
    "niter = 30000\n",
    "p0, q0 = pp, qq \n",
    "ps, qs, xs, ys = particle_EG(p0, q0, xx, yy, c, η, niter;  α = 0.005);\n",
    "psol, qsol, xsol, ysol = ps[:,end], qs[:,end], xs[:,end], ys[:,end]"
   ]
  },
  {
   "attachments": {},
   "cell_type": "markdown",
   "id": "730acc68",
   "metadata": {},
   "source": [
    "## Compute the Jacobian at the saddle point"
   ]
  },
  {
   "attachments": {},
   "cell_type": "markdown",
   "id": "9b112bfc",
   "metadata": {},
   "source": [
    "We start with a function needed in the definition of the Jacobian (see paper)."
   ]
  },
  {
   "cell_type": "code",
   "execution_count": null,
   "id": "334a7fdc",
   "metadata": {},
   "outputs": [],
   "source": [
    "\"\"\"\n",
    "Given an input vector v of size d, creates a orthonormal matrix which first column is v/||v||_2\n",
    "\"\"\"\n",
    "function ONbasiscomplete(v)\n",
    "    d=length(v)\n",
    "    Q = Matrix(1.0*I, d, d)\n",
    "    for k=2:length(v)\n",
    "        Pv = dot(v,Q[:,1])*Q[:,1] + dot(v,Q[:,k])*Q[:,k] # Project v on the plane (e1,ek)\n",
    "        Pv = Pv ./sqrt(sum(Pv.^2)) # normalize to length 1\n",
    "        cosθ = dot(Pv,Q[:,1])\n",
    "        sinθ = dot(Pv,Q[:,k])\n",
    "        Qk = Matrix(1.0*I, d, d)\n",
    "        Qk[1,1] = cosθ; Qk[k,1] = sinθ\n",
    "        Qk[1,k] = -sinθ; Qk[k,k] = cosθ\n",
    "        Q = Q*Qk\n",
    "    end\n",
    "    return Q\n",
    "end\n",
    "\n",
    "d=4\n",
    "v = randn(d)\n",
    "v = v ./ sqrt(sum(v.^2))\n",
    "Q = ONbasiscomplete(v)\n",
    "display(v), display(Q),display(Q'*Q),display(Q*Q');"
   ]
  },
  {
   "attachments": {},
   "cell_type": "markdown",
   "id": "90d6b0a7",
   "metadata": {},
   "source": [
    "Compute the Jacobian of the continuous time dynamics at the saddle point"
   ]
  },
  {
   "cell_type": "code",
   "execution_count": null,
   "id": "5d125c67",
   "metadata": {},
   "outputs": [],
   "source": [
    "\"\"\"\n",
    "Compute the Jacobian of gradient flow at the saddle and return \n",
    "(i) the minimum real part of eigenvalues (removing the two zeros)\n",
    "(ii) the value predicted by the expansion for α small\n",
    "Function is only correct when the input corresponds to a saddle (otherwise last line needs change)\n",
    "\"\"\"\n",
    "function compute_rate_GF(pp,qq,xx,yy,c, α)\n",
    "    f(x1,x2)    = real(sum(c[k1+nf+1,k2+nf+1]*exp(2π*im*(k1*x1+k2*x2))/(1+k1^2+k2^2) for k1 in -nf:nf, k2 in -nf:nf))\n",
    "    ∂1f(x1,x2)  = real(sum(2π*im*k1*c[k1+nf+1,k2+nf+1]*exp(2π*im*(k1*x1+k2*x2))/(1+k1^2+k2^2) for k1 in -nf:nf, k2 in -nf:nf))\n",
    "    ∂2f(x1,x2)  = real(sum(2π*im*k2*c[k1+nf+1,k2+nf+1]*exp(2π*im*(k1*x1+k2*x2))/(1+k1^2+k2^2) for k1 in -nf:nf, k2 in -nf:nf))\n",
    "    ∂12f(x1,x2) = real(sum(-4π^2*k2*k1*c[k1+nf+1,k2+nf+1]*exp(2π*im*(k1*x1+k2*x2))/(1+k1^2+k2^2) for k1 in -nf:nf, k2 in -nf:nf))\n",
    "    ∂11f(x1,x2) = real(sum(-4π^2*k1*k1*c[k1+nf+1,k2+nf+1]*exp(2π*im*(k1*x1+k2*x2))/(1+k1^2+k2^2) for k1 in -nf:nf, k2 in -nf:nf))\n",
    "    ∂22f(x1,x2) = real(sum(-4π^2*k2*k2*c[k1+nf+1,k2+nf+1]*exp(2π*im*(k1*x1+k2*x2))/(1+k1^2+k2^2) for k1 in -nf:nf, k2 in -nf:nf))\n",
    "\n",
    "    P  = [f(x,y) for x in xx, y in yy]\n",
    "    P1 = [∂1f(x,y) for x in xx, y in yy]\n",
    "    P2 = [∂2f(x,y) for x in xx, y in yy]\n",
    "    P12= [∂12f(x,y) for x in xx, y in yy]\n",
    "    P11= [∂11f(x,y) for x in xx, y in yy]\n",
    "    P22= [∂22f(x,y) for x in xx, y in yy]\n",
    "\n",
    "    mm  = length(pp)\n",
    "    nn  = length(qq)\n",
    "    Dp  = diagm(sqrt.(pp))\n",
    "    Dq  = diagm(sqrt.(qq))\n",
    "    Kp  = ONbasiscomplete(sqrt.(pp))\n",
    "    Kq  = ONbasiscomplete(sqrt.(qq))\n",
    "    PP1 = Kp'*Dp*P*Dq*Kq\n",
    "    PP2 = sqrt(α)*Kp'*Dp*P2*Dq\n",
    "    PP3 = sqrt(α)*Dp*P1*Dq*Kq\n",
    "    PP4 = α*Dp*P12*Dq\n",
    "    PP5 = α*diagm(P22'*pp)\n",
    "    PP6 = α*diagm(P11*qq)\n",
    "    DD = diagm(cat(0,ones(mm-1), ones(mm), 0, ones(nn-1),ones(nn),dims=1))\n",
    "    \n",
    "    M = DD*cat(cat(zeros(mm,mm),zeros(mm,mm),PP1         ,PP2         , dims=2),\n",
    "            cat(zeros(mm,mm),PP6         ,PP3         ,PP4         , dims=2),\n",
    "            cat(-PP1'       ,-PP3'       ,zeros(nn,nn),zeros(nn,nn), dims=2),\n",
    "            cat(-PP2'       ,-PP4'       ,zeros(nn,nn),-PP5         , dims=2),\n",
    "        dims=1)*DD\n",
    "    Ptrue = M[1:2mm,2mm+1:end]\n",
    "    Qtrue = M[1:2mm,1:2mm]\n",
    "    Rtrue = M[2mm+1:end,2mm+1:end]\n",
    "\n",
    "    U = svd(Ptrue).U\n",
    "    V = svd(Ptrue).V\n",
    "    #[U[:,j]'*Qtrue*U[:,j] + V[:,j]'*Rtrue*V[:,j] for j in 1:2mm]\n",
    "    #@show size(U), size(Qtrue), size(V), size(Rtrue)\n",
    "\n",
    "    mod_sa = minimum(setdiff(real.(eigen(M).values),0))  #remove the two first 0 eigenvalues\n",
    "    mod_appr = minimum(setdiff([U[:,j]'*Qtrue*U[:,j] + V[:,j]'*Rtrue*V[:,j] for j in 1:size(U,2)],0))\n",
    "    return mod_sa, mod_appr/2#, tr(M)/(mm+nn)\n",
    "end"
   ]
  },
  {
   "attachments": {},
   "cell_type": "markdown",
   "id": "cd3122c4",
   "metadata": {},
   "source": [
    "## Comparison of convergence rates for particle dynamics"
   ]
  },
  {
   "cell_type": "code",
   "execution_count": null,
   "id": "45caa936",
   "metadata": {},
   "outputs": [],
   "source": [
    "niter = 10000\n",
    "Random.seed!(2)\n",
    "p0, q0 = psol .+ 0.01*rand(size(psol)), qsol .+ 0.01*rand(size(qsol)) #only look at local convergence\n",
    "#################### SWITCH THESE LINES OF CODE TO DO ONE OR THE OTHER GRAPH\n",
    "# αs = 10.0 .^ range(-20,-2,length=2) # fixed alphas\n",
    "# ηs = 10.0 .^ range(-2.5,0,length=40) # fixed alphas\n",
    "αs = 10.0 .^ range(-3,-1,length=40) # fixed etas\n",
    "ηs = 10.0 .^ range(-2,-2,length=1) # fixed etas\n",
    "####################\n",
    "rate_altGDA = zeros(length(αs ),length(ηs))\n",
    "rate_symGDA = zeros(length(αs ),length(ηs))\n",
    "rate_EG = zeros(length(αs ),length(ηs))\n",
    "(i,j)=(1,1)\n",
    "@time for i=1:length(αs)\n",
    "        for j=1:length(ηs)\n",
    "        α = αs[i]\n",
    "        η = ηs[j]\n",
    "        # sym-GDA\n",
    "        ps, qs, xs, ys = particle_symGDA(p0, q0, xx, yy, c, η, niter;  α = α);\n",
    "        err = sqrt.(sum((ps[:,:] .- psol[:]).^2, dims=1) .+ sum((qs[:,:] .- qsol[:]).^2, dims=1).+ sum((xs[:,:] .- xsol[:]).^2, dims=1).+ sum((ys[:,:] .- ysol[:]).^2, dims=1))';\n",
    "        err = err[err.>1e-10]\n",
    "        err=err[2:end]\n",
    "        niter_eff = length(err)\n",
    "        a = [ones(niter_eff) 1:niter_eff] \\ log.(err)\n",
    "        rate_symGDA[i,j]=a[2]#/η\n",
    "        \n",
    "        # alt-GDA\n",
    "        ps, qs, xs, ys = particle_altGDA(p0, q0, xx, yy, c, η, niter;  α = α);\n",
    "        err = sqrt.(sum((ps[:,:] .- psol[:]).^2, dims=1) .+ sum((qs[:,:] .- qsol[:]).^2, dims=1).+ sum((xs[:,:] .- xsol[:]).^2, dims=1).+ sum((ys[:,:] .- ysol[:]).^2, dims=1))';\n",
    "        err = err[err.>1e-10]\n",
    "        err=err[2:end]\n",
    "        niter_eff = length(err)\n",
    "        a = [ones(niter_eff) 1:niter_eff] \\ log.(err)\n",
    "        rate_altGDA[i,j]=a[2]#/η\n",
    "        \n",
    "        # EG\n",
    "        ps, qs, xs, ys = particle_EG(p0, q0, xx, yy, c, η, niter;  α = α);\n",
    "        err = sqrt.(sum((ps[:,:] .- psol[:]).^2, dims=1) .+ sum((qs[:,:] .- qsol[:]).^2, dims=1).+ sum((xs[:,:] .- xsol[:]).^2, dims=1).+ sum((ys[:,:] .- ysol[:]).^2, dims=1))';\n",
    "        err = err[err.>1e-10]\n",
    "        err=err[2:end]\n",
    "        niter_eff = length(err)\n",
    "        a = [ones(niter_eff) 1:niter_eff] \\ log.(err)\n",
    "        rate_EG[i,j]=a[2]#/η\n",
    "        end\n",
    "end\n"
   ]
  },
  {
   "cell_type": "code",
   "execution_count": null,
   "id": "6f34fa82",
   "metadata": {},
   "outputs": [],
   "source": [
    "# gradient flow (theoretical)\n",
    "rate_GF = zeros(length(αs))\n",
    "rate_GF_asymp = zeros(length(αs))\n",
    "for i = 1:length(αs)\n",
    "    rate_GF[i], rate_GF_asymp[i] = compute_rate_GF(pp,qq,xx,yy,c, αs[i])\n",
    "end"
   ]
  },
  {
   "cell_type": "code",
   "execution_count": null,
   "id": "abf2bb60",
   "metadata": {},
   "outputs": [],
   "source": [
    "figure(figsize=[5,3])\n",
    "loglog(αs,-rate_symGDA[:,end],lw=3,label=\"Sim-GDA\",\"o\", alpha=0.75)\n",
    "loglog(αs,-rate_EG[:,end],lw=3,label=\"EG\",\"o\", alpha=0.75)\n",
    "loglog(αs,-rate_altGDA[:,end],lw=3,label=\"Alt-GDA\",\"oC3\", alpha=0.75)\n",
    "loglog(αs, ηs[end]*rate_GF.* ones(length(αs)),lw=1,label=\"GF (theory)\",\"k\")\n",
    "#loglog(αs, 500*αs.^2,lw=1,label=\"GF (theory)\",\"k\")\n",
    "\n",
    "legend()\n",
    "xlabel(L\"\\gamma\")\n",
    "ylabel(\"Convergence rate\")\n",
    "#title(L\"Fixed step-size ($\\eta=10^{-2}$)\")\n",
    "grid(\"on\")\n",
    "savefig(\"rate_vs_alpha.png\",bbox_inches=\"tight\",dpi=200)"
   ]
  },
  {
   "cell_type": "code",
   "execution_count": null,
   "id": "a9b12df8",
   "metadata": {
    "scrolled": true
   },
   "outputs": [],
   "source": [
    "figure(figsize=[5,3])\n",
    "loglog(ηs,-rate_symGDA[end,:],lw=3,label=\"Sim-GDA\",\"o\", alpha=0.75)\n",
    "loglog(ηs,-rate_EG[end,:],lw=3,label=\"EG\",\"o\", alpha=0.75)\n",
    "loglog(ηs,-rate_altGDA[end,:],lw=3,label=\"Alt-GDA\",\"oC3\", alpha=0.75)\n",
    "loglog(ηs,-rate_EG[1,:],lw=3,label=L\"EG ($\\gamma=0$)\",\"o\", alpha=0.75)\n",
    "loglog(ηs, rate_GF[end]*ηs,lw=1,label=\"GF (theory)\",\"k\")\n",
    "#loglog(αs, 500*αs.^2,lw=1,label=\"GF (theory)\",\"k\")\n",
    "\n",
    "legend()\n",
    "xlabel(L\"\\eta\")\n",
    "ylabel(\"Convergence rate\")\n",
    "#title(L\"Fixed $\\gamma$ ($\\gamma=10^{-2}$)\")\n",
    "grid(\"on\")\n",
    "savefig(\"rate_vs_eta.png\",bbox_inches=\"tight\",dpi=200)"
   ]
  },
  {
   "cell_type": "code",
   "execution_count": null,
   "id": "f3738a98",
   "metadata": {},
   "outputs": [],
   "source": []
  }
 ],
 "metadata": {
  "@webio": {
   "lastCommId": null,
   "lastKernelId": null
  },
  "kernelspec": {
   "display_name": "Julia 1.6.3",
   "language": "julia",
   "name": "julia-1.6"
  },
  "language_info": {
   "file_extension": ".jl",
   "mimetype": "application/julia",
   "name": "julia",
   "version": "1.6.3"
  }
 },
 "nbformat": 4,
 "nbformat_minor": 5
}
