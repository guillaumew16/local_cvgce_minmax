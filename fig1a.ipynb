{
 "cells": [
  {
   "cell_type": "code",
   "execution_count": null,
   "metadata": {},
   "outputs": [],
   "source": [
    "using PyPlot\n",
    "using Colors\n",
    "using LaTeXStrings\n",
    "using JLD\n",
    "import Dates\n",
    "\n",
    "using Random\n",
    "rng = MersenneTwister(1234)\n",
    "import LinearAlgebra as LA"
   ]
  },
  {
   "cell_type": "code",
   "execution_count": null,
   "metadata": {},
   "outputs": [],
   "source": [
    "function altGDA_trapezoidal(P, Q, R, eta, T; xinit=nothing, yinit=nothing, rng=MersenneTwister(1234))\n",
    "    if isnothing(xinit)\n",
    "        xinit = randn(rng, dimx)\n",
    "    end\n",
    "    if isnothing(yinit)\n",
    "        yinit = randn(rng, dimy)\n",
    "    end\n",
    "    x = xinit\n",
    "    y = yinit\n",
    "    copies_x = Array{Float64}(undef, dimx, T+1)\n",
    "    copies_y = Array{Float64}(undef, dimy, T+1)\n",
    "    for t=1:T\n",
    "        copies_x[:,t] = x\n",
    "        copies_y[:,t] = y\n",
    "\n",
    "        x = x .- eta .* Q * x .- eta .* P * y\n",
    "        y = y .- eta .* R * y .+ eta .* P' * x\n",
    "    end\n",
    "    copies_x[:,T+1] = x\n",
    "    copies_y[:,T+1] = y\n",
    "    for t=1:T\n",
    "        copies_y[:,t] = (copies_y[:,t] + copies_y[:,t+1])/2\n",
    "    end\n",
    "    return copies_x, copies_y\n",
    "end\n"
   ]
  },
  {
   "cell_type": "markdown",
   "metadata": {},
   "source": [
    "### Illustrative setting in dimx=dimy=2"
   ]
  },
  {
   "cell_type": "code",
   "execution_count": null,
   "metadata": {},
   "outputs": [],
   "source": [
    "Random.seed!(rng, 1243) # tweak until I find a good illustrative one...\n",
    "\n",
    "dimx, dimy = 2, 2\n",
    "rankx, ranky = 1, 1\n",
    "alph = 0.4\n",
    "# alph = 0\n",
    "Q = [1 0\n",
    "     0 0]\n",
    "R = [0 0\n",
    "     0 0]\n",
    "P = randn(rng, dimx, dimy)\n",
    "P = round.(P,digits=2)"
   ]
  },
  {
   "cell_type": "code",
   "execution_count": null,
   "metadata": {},
   "outputs": [],
   "source": [
    "T0 = 10000       # must tweak this!\n",
    "eta = 1e-2       # and also this!\n",
    "T = Int(T0/eta)\n",
    "\n",
    "T_min = Int(T/2)\n",
    "# T_min = 1\n",
    "T_max = T\n",
    "# plottrajevery = max(1, Int(floor((T_max-T_min)/5000)))\n",
    "plottrajevery=1\n",
    "\n",
    "for (i, alph) in enumerate([0.01, 0.04, 0.1, 0.4])\n",
    "    copies_x, copies_y = altGDA_trapezoidal(P, alph*Q, R, eta, T; xinit=[1, 1], yinit=[1, 1])\n",
    "\n",
    "    copies_z = vcat(copies_x, copies_y)\n",
    "    copies_x1 = copies_x[1,:]\n",
    "    copies_x2 = copies_x[2,:]\n",
    "    copies_y1 = copies_y[1,:]\n",
    "    copies_y2 = copies_y[2,:]\n",
    "\n",
    "    cm = get_cmap(:tab20)\n",
    "    colorrange = (0:19) ./ 20\n",
    "    figure(figsize=[3,3])\n",
    "    plot(copies_x1[T_min:plottrajevery:T_max], copies_y1[T_min:plottrajevery:T_max], lw=1, \n",
    "        color=cm(colorrange[1]),\n",
    "        label=(i==1 ? L\"$[x_1^k, y_1^k]$\" : \"\"), zorder=10)\n",
    "    plot(copies_x2[T_min:plottrajevery:T_max], copies_y2[T_min:plottrajevery:T_max], lw=1, \n",
    "        color=cm(colorrange[3]),\n",
    "        label=(i==1 ? L\"$[x_2^k, y_2^k]$\" : \"\"))\n",
    "    plot([copies_x1[T_min]], [copies_y1[T_min]], markersize=5,\n",
    "        color=cm(colorrange[1]),\n",
    "        \"o\")\n",
    "    plot([copies_x2[T_min]], [copies_y2[T_min]], markersize=5,\n",
    "        color=cm(colorrange[3]),\n",
    "        \"o\")\n",
    "\n",
    "    # plot([copies_x2[T_max]], [copies_y2[T_max]], markersize=8,\n",
    "    #     color=cm(colorrange[3]),\n",
    "    #     \"s\")\n",
    "    # plot([copies_x1[T_max]], [copies_y1[T_max]], markersize=8,\n",
    "    #     color=cm(colorrange[1]),\n",
    "    #     \"s\")\n",
    "\n",
    "    props = Dict(\"alpha\"=>0.5, \"facecolor\"=>\"white\")\n",
    "    text(0.025, 0.095, L\"\\alpha=%$(alph)\", transform=gca().transAxes, \n",
    "        fontsize=12,\n",
    "        verticalalignment=\"top\", bbox=props)\n",
    "    \n",
    "    if i==1 \n",
    "        legend(fontsize=12)\n",
    "    end\n",
    "    grid(\"on\")\n",
    "    xticks([0],[])\n",
    "    yticks([0],[])\n",
    "    # savefig(\"trajectory__alpha$(alph)T$(T0)eta$(eta)__Tmin$(T_min)max$(T_max)every$(plottrajevery).png\", bbox_inches=\"tight\", dpi=200)\n",
    "    savefig(\"trajectory__alpha$(alph)T$(T0)eta$(eta).png\", bbox_inches=\"tight\", dpi=200)\n",
    "end"
   ]
  }
 ],
 "metadata": {
  "kernelspec": {
   "display_name": "Julia 1.6.3",
   "language": "julia",
   "name": "julia-1.6"
  },
  "language_info": {
   "file_extension": ".jl",
   "mimetype": "application/julia",
   "name": "julia",
   "version": "1.6.3"
  },
  "orig_nbformat": 4,
  "vscode": {
   "interpreter": {
    "hash": "6dd6fd9a984b8e9f8b632a0ce0a6e605415975433a0eb1572562d03f135e73a0"
   }
  }
 },
 "nbformat": 4,
 "nbformat_minor": 2
}
